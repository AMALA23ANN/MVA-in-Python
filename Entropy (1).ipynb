{
 "cells": [
  {
   "cell_type": "code",
   "execution_count": 2,
   "metadata": {},
   "outputs": [],
   "source": [
    "import operator\n",
    "import pandas as pd\n",
    "import numpy as np\n",
    "from scipy.stats import entropy\n",
    "from numpy import histogram\n",
    "from scipy.stats import iqr"
   ]
  },
  {
   "cell_type": "code",
   "execution_count": 3,
   "metadata": {},
   "outputs": [],
   "source": [
    "# Read dataset about breast cancer detection\n",
    "df = pd.read_csv(\"https://archive.ics.uci.edu/ml/machine-learning-databases/00451/dataR2.csv\")"
   ]
  },
  {
   "cell_type": "code",
   "execution_count": 4,
   "metadata": {},
   "outputs": [
    {
     "name": "stdout",
     "output_type": "stream",
     "text": [
      "[('MCP.1', 23.108155830201042), ('Glucose', 0.9088589926775091), ('Leptin', 0.7579402055498925), ('Age', 0.3180042601000994), ('Resistin', 0.2743823759084119), ('BMI', 0.07925847583930119), ('Adiponectin', 0.0027814238004698517), ('HOMA', 0.0016607020266663202), ('Insulin', 1.007652530981098e-05)]\n"
     ]
    }
   ],
   "source": [
    "# Feature Selection\n",
    "# Separate input and targets\n",
    "\n",
    "target = df['Classification']\n",
    "df.drop(['Classification'], axis=1, inplace=True)\n",
    "\n",
    "def kl(x,y):\n",
    "\t# Compute Kullback-Leibler (KL) divergence\n",
    "\tbins_x = max(2,int(2*iqr(x)*len(x)**-(1/3))) # use Freedman-Diaconis's Rule of thumb\n",
    "\tbins_y = max(2,int(2*iqr(y)*len(y)**-(1/3))) \n",
    "\tbins = np.min([bins_x,bins_y]) # entropy function requires vectors of same length\n",
    "\tprob_x = histogram(x,bins)[0] + np.finfo(float).eps #avoid division by zero error\n",
    "\tprob_y = histogram(y,bins)[0] + np.finfo(float).eps\n",
    "\tkl_dist = entropy(prob_x, prob_y)\n",
    "\treturn kl_dist\n",
    "\n",
    "# Rank features based on KL divergence\n",
    "KL_dict = {}\n",
    "for col in df:\n",
    "\tobs_class1 = df[col][target == 1]\n",
    "\tobs_class2 = df[col][target == 2]\n",
    "\tKL_dict[col] = kl(obs_class1,obs_class2)\n",
    "sorted_KL = sorted(KL_dict.items(), key=operator.itemgetter(1),reverse=True)\n",
    "print(sorted_KL)"
   ]
  },
  {
   "cell_type": "code",
   "execution_count": null,
   "metadata": {},
   "outputs": [],
   "source": []
  }
 ],
 "metadata": {
  "kernelspec": {
   "display_name": "Python 3",
   "language": "python",
   "name": "python3"
  },
  "language_info": {
   "codemirror_mode": {
    "name": "ipython",
    "version": 3
   },
   "file_extension": ".py",
   "mimetype": "text/x-python",
   "name": "python",
   "nbconvert_exporter": "python",
   "pygments_lexer": "ipython3",
   "version": "3.7.3"
  }
 },
 "nbformat": 4,
 "nbformat_minor": 2
}
